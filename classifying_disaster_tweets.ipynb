{
 "cells": [
  {
   "cell_type": "markdown",
   "metadata": {},
   "source": [
    "# Predicting disasters from tweets\n",
    "\n",
    "$\\textbf{Author:}$ Alan Akil\n",
    "\n",
    "In this project we will take a Kaggle dataset of tweets (text) and build a model to accurately predict if a tweet is reporting a disaster or not.\n",
    "\n",
    "Link to the Kaggle dataset: https://www.kaggle.com/c/nlp-getting-started/overview\n",
    "\n",
    "This is a Natural Language Processing (NLP) problem, so modeling is different from numeric datasets. \n",
    "\n",
    "Outline of project:\n",
    "\n",
    "- Load packages and dataset.\n",
    "- Exploratory Data Analysis.\n",
    "- Data cleaning / preprocessing. \n",
    "- Feature extraction.\n",
    "- Modeling.\n",
    "- Assessing performance and choosing the best model."
   ]
  },
  {
   "cell_type": "markdown",
   "metadata": {},
   "source": [
    "## Load necessary packages"
   ]
  },
  {
   "cell_type": "code",
   "execution_count": 6,
   "metadata": {},
   "outputs": [],
   "source": [
    "import numpy as np\n",
    "import pandas as pd \n",
    "from sklearn import feature_extraction, linear_model, model_selection, preprocessing\n",
    "import matplotlib.pyplot as plt\n",
    "import seaborn as sns\n",
    "import re"
   ]
  },
  {
   "cell_type": "code",
   "execution_count": 7,
   "metadata": {},
   "outputs": [],
   "source": [
    "import tensorflow as tf\n",
    "from tensorflow import keras\n",
    "from tensorflow.keras.preprocessing.text import Tokenizer\n",
    "from tensorflow.keras.preprocessing.sequence import pad_sequences\n",
    "from tensorflow.keras.layers import Conv1D, Bidirectional, LSTM, Dense, Input, Dropout\n",
    "from tensorflow.keras.layers import SpatialDropout1D, BatchNormalization\n",
    "from tensorflow.keras.callbacks import ModelCheckpoint\n",
    "from tensorflow.keras.optimizers import Adam\n",
    "from tensorflow.keras.callbacks import ReduceLROnPlateau\n",
    "\n",
    "from nltk.stem import SnowballStemmer\n",
    "from nltk.stem import WordNetLemmatizer\n",
    "\n",
    "from sklearn.model_selection import train_test_split"
   ]
  },
  {
   "cell_type": "code",
   "execution_count": 8,
   "metadata": {},
   "outputs": [],
   "source": [
    "from spellchecker import SpellChecker"
   ]
  },
  {
   "cell_type": "code",
   "execution_count": 9,
   "metadata": {},
   "outputs": [
    {
     "name": "stderr",
     "output_type": "stream",
     "text": [
      "[nltk_data] Downloading package stopwords to /Users/alan/nltk_data...\n",
      "[nltk_data]   Package stopwords is already up-to-date!\n"
     ]
    }
   ],
   "source": [
    "import nltk\n",
    "nltk.download('stopwords')\n",
    "from nltk.corpus import stopwords"
   ]
  },
  {
   "cell_type": "code",
   "execution_count": 10,
   "metadata": {},
   "outputs": [],
   "source": [
    "from numpy.random import seed\n",
    "seed(115)\n",
    "import tensorflow\n",
    "tensorflow.random.set_seed(809)"
   ]
  },
  {
   "cell_type": "markdown",
   "metadata": {},
   "source": [
    "## Load dataset\n",
    "\n",
    "Load and explore the dataset."
   ]
  },
  {
   "cell_type": "code",
   "execution_count": 11,
   "metadata": {},
   "outputs": [],
   "source": [
    "df = pd.read_csv(\"./train.csv\")"
   ]
  },
  {
   "cell_type": "code",
   "execution_count": 12,
   "metadata": {},
   "outputs": [
    {
     "data": {
      "text/html": [
       "<div>\n",
       "<style scoped>\n",
       "    .dataframe tbody tr th:only-of-type {\n",
       "        vertical-align: middle;\n",
       "    }\n",
       "\n",
       "    .dataframe tbody tr th {\n",
       "        vertical-align: top;\n",
       "    }\n",
       "\n",
       "    .dataframe thead th {\n",
       "        text-align: right;\n",
       "    }\n",
       "</style>\n",
       "<table border=\"1\" class=\"dataframe\">\n",
       "  <thead>\n",
       "    <tr style=\"text-align: right;\">\n",
       "      <th></th>\n",
       "      <th>id</th>\n",
       "      <th>keyword</th>\n",
       "      <th>location</th>\n",
       "      <th>text</th>\n",
       "      <th>target</th>\n",
       "    </tr>\n",
       "  </thead>\n",
       "  <tbody>\n",
       "    <tr>\n",
       "      <th>0</th>\n",
       "      <td>1</td>\n",
       "      <td>NaN</td>\n",
       "      <td>NaN</td>\n",
       "      <td>Our Deeds are the Reason of this #earthquake M...</td>\n",
       "      <td>1</td>\n",
       "    </tr>\n",
       "    <tr>\n",
       "      <th>1</th>\n",
       "      <td>4</td>\n",
       "      <td>NaN</td>\n",
       "      <td>NaN</td>\n",
       "      <td>Forest fire near La Ronge Sask. Canada</td>\n",
       "      <td>1</td>\n",
       "    </tr>\n",
       "    <tr>\n",
       "      <th>2</th>\n",
       "      <td>5</td>\n",
       "      <td>NaN</td>\n",
       "      <td>NaN</td>\n",
       "      <td>All residents asked to 'shelter in place' are ...</td>\n",
       "      <td>1</td>\n",
       "    </tr>\n",
       "    <tr>\n",
       "      <th>3</th>\n",
       "      <td>6</td>\n",
       "      <td>NaN</td>\n",
       "      <td>NaN</td>\n",
       "      <td>13,000 people receive #wildfires evacuation or...</td>\n",
       "      <td>1</td>\n",
       "    </tr>\n",
       "    <tr>\n",
       "      <th>4</th>\n",
       "      <td>7</td>\n",
       "      <td>NaN</td>\n",
       "      <td>NaN</td>\n",
       "      <td>Just got sent this photo from Ruby #Alaska as ...</td>\n",
       "      <td>1</td>\n",
       "    </tr>\n",
       "  </tbody>\n",
       "</table>\n",
       "</div>"
      ],
      "text/plain": [
       "   id keyword location                                               text  \\\n",
       "0   1     NaN      NaN  Our Deeds are the Reason of this #earthquake M...   \n",
       "1   4     NaN      NaN             Forest fire near La Ronge Sask. Canada   \n",
       "2   5     NaN      NaN  All residents asked to 'shelter in place' are ...   \n",
       "3   6     NaN      NaN  13,000 people receive #wildfires evacuation or...   \n",
       "4   7     NaN      NaN  Just got sent this photo from Ruby #Alaska as ...   \n",
       "\n",
       "   target  \n",
       "0       1  \n",
       "1       1  \n",
       "2       1  \n",
       "3       1  \n",
       "4       1  "
      ]
     },
     "execution_count": 12,
     "metadata": {},
     "output_type": "execute_result"
    }
   ],
   "source": [
    "df.head()"
   ]
  },
  {
   "cell_type": "code",
   "execution_count": 13,
   "metadata": {},
   "outputs": [
    {
     "name": "stdout",
     "output_type": "stream",
     "text": [
      "<class 'pandas.core.frame.DataFrame'>\n",
      "RangeIndex: 7613 entries, 0 to 7612\n",
      "Data columns (total 5 columns):\n",
      " #   Column    Non-Null Count  Dtype \n",
      "---  ------    --------------  ----- \n",
      " 0   id        7613 non-null   int64 \n",
      " 1   keyword   7552 non-null   object\n",
      " 2   location  5080 non-null   object\n",
      " 3   text      7613 non-null   object\n",
      " 4   target    7613 non-null   int64 \n",
      "dtypes: int64(2), object(3)\n",
      "memory usage: 297.5+ KB\n"
     ]
    }
   ],
   "source": [
    "df.info()"
   ]
  },
  {
   "cell_type": "markdown",
   "metadata": {},
   "source": [
    "Print two sample tweets."
   ]
  },
  {
   "cell_type": "code",
   "execution_count": 14,
   "metadata": {},
   "outputs": [
    {
     "data": {
      "text/plain": [
       "'I love fruits'"
      ]
     },
     "execution_count": 14,
     "metadata": {},
     "output_type": "execute_result"
    }
   ],
   "source": [
    "df[df[\"target\"] == 0][\"text\"].values[1]"
   ]
  },
  {
   "cell_type": "code",
   "execution_count": 15,
   "metadata": {},
   "outputs": [
    {
     "data": {
      "text/plain": [
       "'Forest fire near La Ronge Sask. Canada'"
      ]
     },
     "execution_count": 15,
     "metadata": {},
     "output_type": "execute_result"
    }
   ],
   "source": [
    "df[df[\"target\"] == 1][\"text\"].values[1]"
   ]
  },
  {
   "cell_type": "markdown",
   "metadata": {},
   "source": [
    "## Exploratory Data Analysis\n",
    "\n",
    "We will plot the distribution of classes to see if they are balanced.\n",
    "\n",
    "Also, we will look at the distribution of keywords and the distribution of tweet lengths."
   ]
  },
  {
   "cell_type": "markdown",
   "metadata": {},
   "source": [
    "Let's first check if classes are balanced by computing the proportion of disaster and non-disaster tweets."
   ]
  },
  {
   "cell_type": "code",
   "execution_count": 16,
   "metadata": {},
   "outputs": [
    {
     "data": {
      "image/png": "[encoded data removed]",
      "text/plain": [
       "<Figure size 864x432 with 2 Axes>"
      ]
     },
     "metadata": {
      "needs_background": "light"
     },
     "output_type": "display_data"
    }
   ],
   "source": [
    "fig,ax = plt.subplots(1,2,figsize=(12,6))\n",
    "df['target'].value_counts().plot.pie(explode=[0, 0.1], autopct='%1.1f%%', ax=ax[0], shadow=True)\n",
    "ax[0].set_title('Pie plot of target distribution')\n",
    "sns.countplot('target', data=df, ax=ax[1])\n",
    "ax[1].patch.set_alpha(0)\n",
    "ax[1].set_title('Distribution of target')\n",
    "\n",
    "plt.show()\n",
    "#target == 0 : negative(fake)\n",
    "#target == 1 : postive(real)"
   ]
  },
  {
   "cell_type": "markdown",
   "metadata": {},
   "source": [
    "Classes are pretty much balanced so we do not need to worry about it.\n",
    "\n",
    "Let's compute the distribution of keywords in the dataset"
   ]
  },
  {
   "cell_type": "code",
   "execution_count": 17,
   "metadata": {},
   "outputs": [
    {
     "data": {
      "image/png": "[encoded data removed]",
      "text/plain": [
       "<Figure size 1152x432 with 1 Axes>"
      ]
     },
     "metadata": {
      "needs_background": "light"
     },
     "output_type": "display_data"
    }
   ],
   "source": [
    "fig,ax = plt.subplots(1,1,figsize=(16,6))\n",
    "sns.countplot('keyword',data=df,ax=ax,order=df['keyword'].value_counts().index)\n",
    "ax.set_xlim(0,15)\n",
    "ax.patch.set_alpha(0)\n",
    "fig.text(0.13,0.92,\"Count distribution by keyword in Tweets\", fontweight=\"bold\", fontfamily='serif', fontsize=20)\n",
    "plt.show()"
   ]
  },
  {
   "cell_type": "markdown",
   "metadata": {},
   "source": [
    "Now compute the length of each tweet and then the distribution of tweet lengths."
   ]
  },
  {
   "cell_type": "code",
   "execution_count": 18,
   "metadata": {},
   "outputs": [
    {
     "data": {
      "text/html": [
       "<div>\n",
       "<style scoped>\n",
       "    .dataframe tbody tr th:only-of-type {\n",
       "        vertical-align: middle;\n",
       "    }\n",
       "\n",
       "    .dataframe tbody tr th {\n",
       "        vertical-align: top;\n",
       "    }\n",
       "\n",
       "    .dataframe thead th {\n",
       "        text-align: right;\n",
       "    }\n",
       "</style>\n",
       "<table border=\"1\" class=\"dataframe\">\n",
       "  <thead>\n",
       "    <tr style=\"text-align: right;\">\n",
       "      <th></th>\n",
       "      <th>id</th>\n",
       "      <th>keyword</th>\n",
       "      <th>location</th>\n",
       "      <th>text</th>\n",
       "      <th>target</th>\n",
       "      <th>length</th>\n",
       "    </tr>\n",
       "  </thead>\n",
       "  <tbody>\n",
       "    <tr>\n",
       "      <th>0</th>\n",
       "      <td>1</td>\n",
       "      <td>NaN</td>\n",
       "      <td>NaN</td>\n",
       "      <td>Our Deeds are the Reason of this #earthquake M...</td>\n",
       "      <td>1</td>\n",
       "      <td>69</td>\n",
       "    </tr>\n",
       "    <tr>\n",
       "      <th>1</th>\n",
       "      <td>4</td>\n",
       "      <td>NaN</td>\n",
       "      <td>NaN</td>\n",
       "      <td>Forest fire near La Ronge Sask. Canada</td>\n",
       "      <td>1</td>\n",
       "      <td>38</td>\n",
       "    </tr>\n",
       "    <tr>\n",
       "      <th>2</th>\n",
       "      <td>5</td>\n",
       "      <td>NaN</td>\n",
       "      <td>NaN</td>\n",
       "      <td>All residents asked to 'shelter in place' are ...</td>\n",
       "      <td>1</td>\n",
       "      <td>133</td>\n",
       "    </tr>\n",
       "    <tr>\n",
       "      <th>3</th>\n",
       "      <td>6</td>\n",
       "      <td>NaN</td>\n",
       "      <td>NaN</td>\n",
       "      <td>13,000 people receive #wildfires evacuation or...</td>\n",
       "      <td>1</td>\n",
       "      <td>65</td>\n",
       "    </tr>\n",
       "    <tr>\n",
       "      <th>4</th>\n",
       "      <td>7</td>\n",
       "      <td>NaN</td>\n",
       "      <td>NaN</td>\n",
       "      <td>Just got sent this photo from Ruby #Alaska as ...</td>\n",
       "      <td>1</td>\n",
       "      <td>88</td>\n",
       "    </tr>\n",
       "    <tr>\n",
       "      <th>...</th>\n",
       "      <td>...</td>\n",
       "      <td>...</td>\n",
       "      <td>...</td>\n",
       "      <td>...</td>\n",
       "      <td>...</td>\n",
       "      <td>...</td>\n",
       "    </tr>\n",
       "    <tr>\n",
       "      <th>7608</th>\n",
       "      <td>10869</td>\n",
       "      <td>NaN</td>\n",
       "      <td>NaN</td>\n",
       "      <td>Two giant cranes holding a bridge collapse int...</td>\n",
       "      <td>1</td>\n",
       "      <td>83</td>\n",
       "    </tr>\n",
       "    <tr>\n",
       "      <th>7609</th>\n",
       "      <td>10870</td>\n",
       "      <td>NaN</td>\n",
       "      <td>NaN</td>\n",
       "      <td>@aria_ahrary @TheTawniest The out of control w...</td>\n",
       "      <td>1</td>\n",
       "      <td>125</td>\n",
       "    </tr>\n",
       "    <tr>\n",
       "      <th>7610</th>\n",
       "      <td>10871</td>\n",
       "      <td>NaN</td>\n",
       "      <td>NaN</td>\n",
       "      <td>M1.94 [01:04 UTC]?5km S of Volcano Hawaii. htt...</td>\n",
       "      <td>1</td>\n",
       "      <td>65</td>\n",
       "    </tr>\n",
       "    <tr>\n",
       "      <th>7611</th>\n",
       "      <td>10872</td>\n",
       "      <td>NaN</td>\n",
       "      <td>NaN</td>\n",
       "      <td>Police investigating after an e-bike collided ...</td>\n",
       "      <td>1</td>\n",
       "      <td>137</td>\n",
       "    </tr>\n",
       "    <tr>\n",
       "      <th>7612</th>\n",
       "      <td>10873</td>\n",
       "      <td>NaN</td>\n",
       "      <td>NaN</td>\n",
       "      <td>The Latest: More Homes Razed by Northern Calif...</td>\n",
       "      <td>1</td>\n",
       "      <td>94</td>\n",
       "    </tr>\n",
       "  </tbody>\n",
       "</table>\n",
       "<p>7613 rows × 6 columns</p>\n",
       "</div>"
      ],
      "text/plain": [
       "         id keyword location  \\\n",
       "0         1     NaN      NaN   \n",
       "1         4     NaN      NaN   \n",
       "2         5     NaN      NaN   \n",
       "3         6     NaN      NaN   \n",
       "4         7     NaN      NaN   \n",
       "...     ...     ...      ...   \n",
       "7608  10869     NaN      NaN   \n",
       "7609  10870     NaN      NaN   \n",
       "7610  10871     NaN      NaN   \n",
       "7611  10872     NaN      NaN   \n",
       "7612  10873     NaN      NaN   \n",
       "\n",
       "                                                   text  target  length  \n",
       "0     Our Deeds are the Reason of this #earthquake M...       1      69  \n",
       "1                Forest fire near La Ronge Sask. Canada       1      38  \n",
       "2     All residents asked to 'shelter in place' are ...       1     133  \n",
       "3     13,000 people receive #wildfires evacuation or...       1      65  \n",
       "4     Just got sent this photo from Ruby #Alaska as ...       1      88  \n",
       "...                                                 ...     ...     ...  \n",
       "7608  Two giant cranes holding a bridge collapse int...       1      83  \n",
       "7609  @aria_ahrary @TheTawniest The out of control w...       1     125  \n",
       "7610  M1.94 [01:04 UTC]?5km S of Volcano Hawaii. htt...       1      65  \n",
       "7611  Police investigating after an e-bike collided ...       1     137  \n",
       "7612  The Latest: More Homes Razed by Northern Calif...       1      94  \n",
       "\n",
       "[7613 rows x 6 columns]"
      ]
     },
     "execution_count": 18,
     "metadata": {},
     "output_type": "execute_result"
    }
   ],
   "source": [
    "def get_length(text):\n",
    "    return len(text)\n",
    "\n",
    "df['length'] = df['text'].apply(get_length)\n",
    "df"
   ]
  },
  {
   "cell_type": "code",
   "execution_count": 19,
   "metadata": {},
   "outputs": [
    {
     "data": {
      "image/png": "[encoded data removed]",
      "text/plain": [
       "<Figure size 1296x360 with 1 Axes>"
      ]
     },
     "metadata": {
      "needs_background": "light"
     },
     "output_type": "display_data"
    }
   ],
   "source": [
    "fig, ax = plt.subplots(1,1, figsize=(18,5))\n",
    "plt.hist(df[df['target'] == 0]['length'], alpha = 0.4, bins=150, label = 'Not', color='red')\n",
    "plt.hist(df[df['target'] == 1]['length'], alpha = 0.4, bins=150, label = 'Real', color='blue')\n",
    "plt.xlabel('length')\n",
    "plt.ylabel('numbers')\n",
    "plt.legend(loc='upper right')\n",
    "plt.xlim(0,150)\n",
    "ax.set_ylabel('')\n",
    "ax.patch.set_alpha(0)\n",
    "fig.text(0.13,0.8,\"Count distribution by length in Tweets\", fontweight=\"bold\", fontfamily='serif', fontsize=25)\n",
    "plt.show()"
   ]
  },
  {
   "cell_type": "markdown",
   "metadata": {},
   "source": [
    "## Preprocessing\n",
    "\n",
    "We will see how nan's there are. Note that only the keyword and location columns have nan's and we will get rid of them later on and will not be used in the model, so we don't need to worry about them."
   ]
  },
  {
   "cell_type": "code",
   "execution_count": 20,
   "metadata": {},
   "outputs": [
    {
     "data": {
      "text/plain": [
       "id             0\n",
       "keyword       61\n",
       "location    2533\n",
       "text           0\n",
       "target         0\n",
       "length         0\n",
       "dtype: int64"
      ]
     },
     "execution_count": 20,
     "metadata": {},
     "output_type": "execute_result"
    }
   ],
   "source": [
    "df.isnull().sum()"
   ]
  },
  {
   "cell_type": "markdown",
   "metadata": {},
   "source": [
    "Part of the preprocessing is finding stopwords and removing characters that are not parts of relevant words: emojis, punctuation, urls, etc."
   ]
  },
  {
   "cell_type": "code",
   "execution_count": 21,
   "metadata": {},
   "outputs": [],
   "source": [
    "stop_words = stopwords.words('english')\n",
    "stemmer = SnowballStemmer('english')\n",
    "lemmatizer = WordNetLemmatizer()"
   ]
  },
  {
   "cell_type": "code",
   "execution_count": 22,
   "metadata": {},
   "outputs": [],
   "source": [
    "def preprocess(text,stem=False):\n",
    "    text = text.lower()  # lowercase\n",
    "\n",
    "    text = re.sub(r'[!]+', '!', text)\n",
    "    text = re.sub(r'[?]+', '?', text)\n",
    "    text = re.sub(r'[.]+', '.', text)\n",
    "    text = re.sub(r\"'\", \"\", text)\n",
    "    text = re.sub('\\s+', ' ', text).strip()  # Remove and double spaces\n",
    "    text = re.sub(r'&amp;?', r'and', text)  # replace & with and\n",
    "    text = re.sub(r\"https?:\\/\\/t.co\\/[A-Za-z0-9]+\", \"\", text)  # Remove URL\n",
    "    # remove some puncts (except . ! # ?)\n",
    "    text = re.sub(r'[:\"$%&\\*+,-/:;<=>@\\\\^_`{|}~]+', '', text)\n",
    "    text = re.sub('(@[A-Za-z]+[A-za-z0-9-_]+)', '', text) # remove @username\n",
    "    text = re.sub('rt', '', text) # remove rt\n",
    "#     Remove emojis\n",
    "    emoji_pattern = re.compile(\"[\"\n",
    "                               u\"\\U0001F600-\\U0001F64F\"  # emoticons\n",
    "                               u\"\\U0001F300-\\U0001F5FF\"  # symbols & pictographs\n",
    "                               u\"\\U0001F680-\\U0001F6FF\"  # transport & map symbols\n",
    "                               u\"\\U0001F1E0-\\U0001F1FF\"  # flags (iOS)\n",
    "                               u\"\\U00002702-\\U000027B0\"\n",
    "                               u\"\\U000024C2-\\U0001F251\"\n",
    "                               \"]+\", flags=re.UNICODE)\n",
    "    text = emoji_pattern.sub(r'EMOJI', text)\n",
    "    \n",
    "    tokens = []\n",
    "    for token in text.split():\n",
    "        if token not in stop_words:\n",
    "            if stem:\n",
    "                tokens.append(SnowballStemmer.stem(token))\n",
    "            else:\n",
    "                tokens.append(token)\n",
    "    return \" \".join(tokens)"
   ]
  },
  {
   "cell_type": "code",
   "execution_count": 23,
   "metadata": {},
   "outputs": [],
   "source": [
    "spell = SpellChecker()\n",
    "def correct_spell(text):\n",
    "    corrected_text = []\n",
    "    misspelled_words = spell.unknown(text.split())\n",
    "    for word in text.split():\n",
    "        if word in misspelled_words:\n",
    "            corrected_text.append(spell.correction(word))\n",
    "        else:\n",
    "            corrected_text.append(word)\n",
    "    return \" \".join(corrected_text)"
   ]
  },
  {
   "cell_type": "markdown",
   "metadata": {},
   "source": [
    "Apply all preprocessing at once."
   ]
  },
  {
   "cell_type": "code",
   "execution_count": 24,
   "metadata": {},
   "outputs": [],
   "source": [
    "df.text = df.text.apply(lambda x: preprocess(x))\n",
    "# df.text = df.text.apply(lambda x: correct_spell(x)) # This takes time!"
   ]
  },
  {
   "cell_type": "markdown",
   "metadata": {},
   "source": [
    "Get rid of columns that will not be used for training."
   ]
  },
  {
   "cell_type": "code",
   "execution_count": 25,
   "metadata": {},
   "outputs": [
    {
     "data": {
      "text/html": [
       "<div>\n",
       "<style scoped>\n",
       "    .dataframe tbody tr th:only-of-type {\n",
       "        vertical-align: middle;\n",
       "    }\n",
       "\n",
       "    .dataframe tbody tr th {\n",
       "        vertical-align: top;\n",
       "    }\n",
       "\n",
       "    .dataframe thead th {\n",
       "        text-align: right;\n",
       "    }\n",
       "</style>\n",
       "<table border=\"1\" class=\"dataframe\">\n",
       "  <thead>\n",
       "    <tr style=\"text-align: right;\">\n",
       "      <th></th>\n",
       "      <th>text</th>\n",
       "      <th>target</th>\n",
       "    </tr>\n",
       "  </thead>\n",
       "  <tbody>\n",
       "    <tr>\n",
       "      <th>0</th>\n",
       "      <td>deeds reason #eahquake may allah forgive us</td>\n",
       "      <td>1</td>\n",
       "    </tr>\n",
       "    <tr>\n",
       "      <th>1</th>\n",
       "      <td>forest fire near la ronge sask canada</td>\n",
       "      <td>1</td>\n",
       "    </tr>\n",
       "    <tr>\n",
       "      <th>2</th>\n",
       "      <td>residents asked shelter place notified officer...</td>\n",
       "      <td>1</td>\n",
       "    </tr>\n",
       "    <tr>\n",
       "      <th>3</th>\n",
       "      <td>13000 people receive #wildfires evacuation ord...</td>\n",
       "      <td>1</td>\n",
       "    </tr>\n",
       "    <tr>\n",
       "      <th>4</th>\n",
       "      <td>got sent photo ruby #alaska smoke #wildfires p...</td>\n",
       "      <td>1</td>\n",
       "    </tr>\n",
       "  </tbody>\n",
       "</table>\n",
       "</div>"
      ],
      "text/plain": [
       "                                                text  target\n",
       "0        deeds reason #eahquake may allah forgive us       1\n",
       "1              forest fire near la ronge sask canada       1\n",
       "2  residents asked shelter place notified officer...       1\n",
       "3  13000 people receive #wildfires evacuation ord...       1\n",
       "4  got sent photo ruby #alaska smoke #wildfires p...       1"
      ]
     },
     "execution_count": 25,
     "metadata": {},
     "output_type": "execute_result"
    }
   ],
   "source": [
    "df.drop(['keyword','id','location','length'],axis=1,inplace=True)\n",
    "df.head()"
   ]
  },
  {
   "cell_type": "markdown",
   "metadata": {},
   "source": [
    "## Feature extraction"
   ]
  },
  {
   "cell_type": "markdown",
   "metadata": {},
   "source": [
    "We will start with simpler models and move towards more complex. The first models to test are logistic regression, random forests and XGBoost. \n",
    "\n",
    "Before we do this, we first transform the text into a suitable numeric input by using the TF-IDF algorithm. This algorithm tokenizes each tweet and then keeps the most relevant features (Ngrams) based on the TF*IDF measure.  "
   ]
  },
  {
   "cell_type": "code",
   "execution_count": 26,
   "metadata": {},
   "outputs": [],
   "source": [
    "from sklearn.feature_extraction.text import TfidfVectorizer\n",
    "\n",
    "TfIdf = TfidfVectorizer(max_features=3000) \n",
    "df_after_tfidf = TfIdf.fit_transform(df['text'])"
   ]
  },
  {
   "cell_type": "markdown",
   "metadata": {},
   "source": [
    "## Modeling\n",
    "\n",
    "Let's start our modeling with Logistic Regression, Random Forests, and XGBoosting.\n",
    "\n",
    "Before that, split our new dataframe into 80% train and 20% test."
   ]
  },
  {
   "cell_type": "code",
   "execution_count": 27,
   "metadata": {},
   "outputs": [],
   "source": [
    "from sklearn.metrics import accuracy_score # метрика качества\n",
    "from sklearn.model_selection import train_test_split  \n",
    "\n",
    "X_train, X_test, y_train, y_test = train_test_split(df_after_tfidf,df.target,test_size = 0.2, random_state = 123) "
   ]
  },
  {
   "cell_type": "code",
   "execution_count": 28,
   "metadata": {},
   "outputs": [
    {
     "name": "stdout",
     "output_type": "stream",
     "text": [
      "The LogisticRegression() has auc = 0.7868457592266763\n",
      "The LogisticRegression() has val_acc = 0.8049901510177282\n",
      "The RandomForestClassifier() has auc = 0.7694196538980631\n",
      "The RandomForestClassifier() has val_acc = 0.7846355876559422\n",
      "[00:50:07] WARNING: /opt/concourse/worker/volumes/live/7a2b9f41-3287-451b-6691-43e9a6c0910f/volume/xgboost-split_1619728204606/work/src/learner.cc:1061: Starting in XGBoost 1.3.0, the default evaluation metric used with the objective 'binary:logistic' was changed from 'error' to 'logloss'. Explicitly set eval_metric if you'd like to restore the old behavior.\n"
     ]
    },
    {
     "name": "stderr",
     "output_type": "stream",
     "text": [
      "/opt/anaconda3/envs/bmnn/lib/python3.7/site-packages/xgboost/sklearn.py:888: UserWarning: The use of label encoder in XGBClassifier is deprecated and will be removed in a future release. To remove this warning, do the following: 1) Pass option use_label_encoder=False when constructing XGBClassifier object; and 2) Encode your labels (y) as integers starting with 0, i.e. 0, 1, 2, ..., [num_class - 1].\n",
      "  warnings.warn(label_encoder_deprecation_msg, UserWarning)\n"
     ]
    },
    {
     "name": "stdout",
     "output_type": "stream",
     "text": [
      "The XGBClassifier(base_score=0.5, booster='gbtree', colsample_bylevel=1,\n",
      "              colsample_bynode=1, colsample_bytree=1, gamma=0, gpu_id=-1,\n",
      "              importance_type='gain', interaction_constraints='',\n",
      "              learning_rate=0.300000012, max_delta_step=0, max_depth=6,\n",
      "              min_child_weight=1, missing=nan, monotone_constraints='()',\n",
      "              n_estimators=100, n_jobs=16, num_parallel_tree=1, random_state=0,\n",
      "              reg_alpha=0, reg_lambda=1, scale_pos_weight=1, subsample=1,\n",
      "              tree_method='exact', validate_parameters=1, verbosity=None) has auc = 0.7528379581540288\n",
      "The XGBClassifier(base_score=0.5, booster='gbtree', colsample_bylevel=1,\n",
      "              colsample_bynode=1, colsample_bytree=1, gamma=0, gpu_id=-1,\n",
      "              importance_type='gain', interaction_constraints='',\n",
      "              learning_rate=0.300000012, max_delta_step=0, max_depth=6,\n",
      "              min_child_weight=1, missing=nan, monotone_constraints='()',\n",
      "              n_estimators=100, n_jobs=16, num_parallel_tree=1, random_state=0,\n",
      "              reg_alpha=0, reg_lambda=1, scale_pos_weight=1, subsample=1,\n",
      "              tree_method='exact', validate_parameters=1, verbosity=None) has val_acc = 0.7767564018384767\n",
      "\n",
      " The best model is LogisticRegression() and has validation accuracy of 0.8049901510177282\n"
     ]
    }
   ],
   "source": [
    "from sklearn.ensemble import RandomForestClassifier\n",
    "from sklearn.linear_model import LogisticRegression\n",
    "from xgboost import XGBClassifier\n",
    "from sklearn.metrics import roc_auc_score\n",
    "from sklearn.metrics import roc_curve\n",
    "\n",
    "models = [ LogisticRegression(),\n",
    "          RandomForestClassifier(),\n",
    "          XGBClassifier() ]\n",
    "\n",
    "best_model = ''\n",
    "best_score = 0\n",
    "i = 0\n",
    "for model in models:\n",
    "    model.fit(X_train, y_train)\n",
    "    predicted_score = model.predict(X_test)\n",
    "    \n",
    "    val_score = accuracy_score(y_test, predicted_score)\n",
    "    \n",
    "    if val_score > best_score:\n",
    "        best_score = val_score\n",
    "        best_model = model\n",
    "        \n",
    "    if i == 0:\n",
    "        logit_roc_auc = roc_auc_score(y_test, model.predict(X_test))\n",
    "        fpr_logit, tpr_logit, thresholds_logit = roc_curve(y_test, model.predict_proba(X_test)[:,1])\n",
    "        print(f'The {model} has auc = {logit_roc_auc}')\n",
    "    elif i == 1:\n",
    "        rf_roc_auc = roc_auc_score(y_test, model.predict(X_test))\n",
    "        fpr_rf, tpr_rf, thresholds_rf = roc_curve(y_test, model.predict_proba(X_test)[:,1])\n",
    "        print(f'The {model} has auc = {rf_roc_auc}')\n",
    "    elif i == 2:\n",
    "        xgb_roc_auc = roc_auc_score(y_test, model.predict(X_test))\n",
    "        fpr_xgb, tpr_xgb, thresholds_xgb = roc_curve(y_test, model.predict_proba(X_test)[:,1])\n",
    "        print(f'The {model} has auc = {xgb_roc_auc}')\n",
    "        \n",
    "    print(f'The {model} has val_acc = {val_score}')\n",
    "    i+=1\n",
    "    \n",
    "print(f'\\n The best model is {best_model} and has validation accuracy of {best_score}')"
   ]
  },
  {
   "cell_type": "markdown",
   "metadata": {},
   "source": [
    "$\\textbf{Note:}$ As it is seen above, the best model so far is actually logistic regression -- it has better accuracy and auc score than RF's and XGBoost."
   ]
  },
  {
   "cell_type": "markdown",
   "metadata": {},
   "source": [
    "## Modeling: LSTM network\n",
    "\n",
    "We will now train an LSTM RNN on this dataset so we will tokenize and build into sequences our data.\n",
    "\n",
    "Then we will add an input layer to the LSTM model that applies the GloVe model. GloVe stands for Global Vectors and gives vector representations of words in 'high' dimensional space where similar words and near in distance."
   ]
  },
  {
   "cell_type": "code",
   "execution_count": 29,
   "metadata": {},
   "outputs": [
    {
     "name": "stdout",
     "output_type": "stream",
     "text": [
      "Train Data size :  6090\n",
      "Test Data size :  1523\n"
     ]
    }
   ],
   "source": [
    "train_data, test_data = train_test_split(df,test_size = 0.2)\n",
    "print(\"Train Data size : \",len(train_data))\n",
    "print(\"Test Data size : \",len(test_data))"
   ]
  },
  {
   "cell_type": "code",
   "execution_count": 30,
   "metadata": {},
   "outputs": [
    {
     "name": "stdout",
     "output_type": "stream",
     "text": [
      "Vocab size :  15658\n"
     ]
    }
   ],
   "source": [
    "tokenizer = Tokenizer()\n",
    "tokenizer.fit_on_texts(train_data.text)\n",
    "word_index = tokenizer.word_index\n",
    "vocab_size = len(word_index) + 1\n",
    "print(\"Vocab size : \",vocab_size)"
   ]
  },
  {
   "cell_type": "code",
   "execution_count": 31,
   "metadata": {},
   "outputs": [
    {
     "name": "stdout",
     "output_type": "stream",
     "text": [
      "Training X Shape: (6090, 100)\n",
      "Testing X Shape: (1523, 100)\n"
     ]
    }
   ],
   "source": [
    "max_dim = 100 # Pick a maximum dimension for the sequences of words in a tweet.\n",
    "\n",
    "x_train = pad_sequences(tokenizer.texts_to_sequences(train_data.text), maxlen = max_dim)\n",
    "x_test = pad_sequences(tokenizer.texts_to_sequences(test_data.text), maxlen = max_dim)\n",
    "\n",
    "print(\"Training X Shape:\",x_train.shape)\n",
    "print(\"Testing X Shape:\",x_test.shape)"
   ]
  },
  {
   "cell_type": "code",
   "execution_count": 32,
   "metadata": {},
   "outputs": [
    {
     "name": "stdout",
     "output_type": "stream",
     "text": [
      "y_train shape: (6090,)\n",
      "y_test shape: (1523,)\n"
     ]
    }
   ],
   "source": [
    "y_train = train_data.target\n",
    "y_test = test_data.target\n",
    "\n",
    "print(\"y_train shape:\", y_train.shape)\n",
    "print(\"y_test shape:\", y_test.shape)"
   ]
  },
  {
   "cell_type": "markdown",
   "metadata": {},
   "source": [
    "Let's load the GloVe model and include it in our Keras model as the first layer."
   ]
  },
  {
   "cell_type": "code",
   "execution_count": 33,
   "metadata": {},
   "outputs": [],
   "source": [
    "EMBEDDING_DIM = 300\n",
    "LR = 1e-3\n",
    "BATCH_SIZE = 512\n",
    "\n",
    "GLOVE_EMB = '/Users/alan/Downloads/glove/glove.6B.300d.txt'"
   ]
  },
  {
   "cell_type": "code",
   "execution_count": 34,
   "metadata": {},
   "outputs": [
    {
     "name": "stdout",
     "output_type": "stream",
     "text": [
      "Found 400001 word vectors.\n"
     ]
    }
   ],
   "source": [
    "embeddings_index = {}\n",
    "\n",
    "f = open(GLOVE_EMB)\n",
    "for line in f:\n",
    "    values = line.split()\n",
    "    word = value = values[0]\n",
    "    coefs = np.asarray(values[1:], dtype='float32')\n",
    "    embeddings_index[word] = coefs\n",
    "f.close()\n",
    "\n",
    "print('Found %s word vectors.' %len(embeddings_index))"
   ]
  },
  {
   "cell_type": "code",
   "execution_count": 35,
   "metadata": {},
   "outputs": [],
   "source": [
    "embedding_matrix = np.zeros((vocab_size, EMBEDDING_DIM))\n",
    "for word, i in word_index.items():\n",
    "    embedding_vector = embeddings_index.get(word)\n",
    "    if embedding_vector is not None:\n",
    "        embedding_matrix[i] = embedding_vector"
   ]
  },
  {
   "cell_type": "code",
   "execution_count": 36,
   "metadata": {},
   "outputs": [],
   "source": [
    "embedding_layer = tf.keras.layers.Embedding(vocab_size,\n",
    "                                            EMBEDDING_DIM,\n",
    "                                            weights=[embedding_matrix],\n",
    "                                            input_length=max_dim,\n",
    "                                           trainable=False)"
   ]
  },
  {
   "cell_type": "markdown",
   "metadata": {},
   "source": [
    "Define the LSTM network model."
   ]
  },
  {
   "cell_type": "code",
   "execution_count": 37,
   "metadata": {},
   "outputs": [],
   "source": [
    "inputs = Input(shape=(max_dim,),dtype = 'int32')\n",
    "\n",
    "embedding = embedding_layer(inputs)\n",
    "net = SpatialDropout1D(0.2)(embedding)\n",
    "net = Bidirectional(LSTM(128,dropout=0.2, recurrent_dropout=0.2))(net)\n",
    "net = Dense(1,activation = 'sigmoid')(net)\n",
    "\n",
    "outputs = net\n",
    "lstm_model = tf.keras.Model(inputs,outputs)"
   ]
  },
  {
   "cell_type": "markdown",
   "metadata": {},
   "source": [
    "Compile the LSTM model with an optimizer, loss metric, and performance metric."
   ]
  },
  {
   "cell_type": "code",
   "execution_count": 38,
   "metadata": {},
   "outputs": [],
   "source": [
    "lstm_model.compile(optimizer = Adam(learning_rate = LR),\n",
    "             loss = 'binary_crossentropy',\n",
    "             metrics = ['binary_accuracy'])"
   ]
  },
  {
   "cell_type": "code",
   "execution_count": 39,
   "metadata": {},
   "outputs": [],
   "source": [
    "callback = ReduceLROnPlateau(factor=0.1,\n",
    "                    min_lr = 0.001,\n",
    "                    monitor = 'val_loss',\n",
    "                    verbose = 1)"
   ]
  },
  {
   "cell_type": "markdown",
   "metadata": {},
   "source": [
    "Fit the model. Note that the pretrained layer is frozen."
   ]
  },
  {
   "cell_type": "code",
   "execution_count": 40,
   "metadata": {},
   "outputs": [
    {
     "name": "stdout",
     "output_type": "stream",
     "text": [
      "Train on 6090 samples, validate on 1523 samples\n",
      "Epoch 1/10\n",
      "6090/6090 [==============================] - 20s 3ms/sample - loss: 0.5985 - binary_accuracy: 0.7135 - val_loss: 0.5079 - val_binary_accuracy: 0.7715\n",
      "Epoch 2/10\n",
      "6090/6090 [==============================] - 17s 3ms/sample - loss: 0.4935 - binary_accuracy: 0.7727 - val_loss: 0.4798 - val_binary_accuracy: 0.7807\n",
      "Epoch 3/10\n",
      "6090/6090 [==============================] - 20s 3ms/sample - loss: 0.4594 - binary_accuracy: 0.7949 - val_loss: 0.4649 - val_binary_accuracy: 0.7794\n",
      "Epoch 4/10\n",
      "6090/6090 [==============================] - 22s 4ms/sample - loss: 0.4458 - binary_accuracy: 0.7993 - val_loss: 0.4504 - val_binary_accuracy: 0.7945\n",
      "Epoch 5/10\n",
      "6090/6090 [==============================] - 21s 4ms/sample - loss: 0.4342 - binary_accuracy: 0.8099 - val_loss: 0.4467 - val_binary_accuracy: 0.7932\n",
      "Epoch 6/10\n",
      "6090/6090 [==============================] - 21s 3ms/sample - loss: 0.4313 - binary_accuracy: 0.8062 - val_loss: 0.4469 - val_binary_accuracy: 0.7965\n",
      "Epoch 7/10\n",
      "6090/6090 [==============================] - 21s 3ms/sample - loss: 0.4170 - binary_accuracy: 0.8138 - val_loss: 0.4434 - val_binary_accuracy: 0.8011\n",
      "Epoch 8/10\n",
      "6090/6090 [==============================] - 20s 3ms/sample - loss: 0.4151 - binary_accuracy: 0.8163 - val_loss: 0.4400 - val_binary_accuracy: 0.8024\n",
      "Epoch 9/10\n",
      "6090/6090 [==============================] - 21s 3ms/sample - loss: 0.4104 - binary_accuracy: 0.8204 - val_loss: 0.4421 - val_binary_accuracy: 0.8063\n",
      "Epoch 10/10\n",
      "6090/6090 [==============================] - 21s 3ms/sample - loss: 0.4041 - binary_accuracy: 0.8213 - val_loss: 0.4406 - val_binary_accuracy: 0.8017\n"
     ]
    }
   ],
   "source": [
    "history = lstm_model.fit(x_train,\n",
    "                    y_train,\n",
    "                    batch_size=512,\n",
    "                    epochs=10,\n",
    "                    validation_data=(x_test, y_test),\n",
    "                    callbacks = [callback])"
   ]
  },
  {
   "cell_type": "markdown",
   "metadata": {},
   "source": [
    "Plot accuracy and loss of training and testing."
   ]
  },
  {
   "cell_type": "code",
   "execution_count": 41,
   "metadata": {},
   "outputs": [
    {
     "data": {
      "image/png": "[encoded data removed]",
      "text/plain": [
       "<Figure size 720x576 with 2 Axes>"
      ]
     },
     "metadata": {
      "needs_background": "light"
     },
     "output_type": "display_data"
    }
   ],
   "source": [
    "f,ax = plt.subplots(2,1,figsize=(10,8))\n",
    "\n",
    "ax[0].plot(history.history['binary_accuracy'])\n",
    "ax[0].plot(history.history['val_binary_accuracy'])\n",
    "ax[0].set_title('Model Accuracy')\n",
    "ax[0].set_ylabel('Accuracy')\n",
    "ax[0].set_xlabel('Epochs')\n",
    "ax[0].legend(['LSTM_train', 'LSTM_val'], loc='upper left')\n",
    "\n",
    "\n",
    "ax[1].plot(history.history['loss'])\n",
    "ax[1].plot(history.history['val_loss'])\n",
    "ax[1].set_title('Model Loss')\n",
    "ax[1].set_ylabel('Loss')\n",
    "ax[1].set_xlabel('Epochs')\n",
    "ax[1].legend(['train', 'val'], loc = 'upper left')\n",
    "\n",
    "f.tight_layout()\n",
    "plt.show()"
   ]
  },
  {
   "cell_type": "markdown",
   "metadata": {},
   "source": [
    "## Fine tuning LSTM pretrained layer\n",
    "\n",
    "We have trained our LSTM network with a frozen pretrained layer. We will now fine tune it by unfreezing the pretrained layer with a low learning rate in order to get higher performance."
   ]
  },
  {
   "cell_type": "code",
   "execution_count": 42,
   "metadata": {},
   "outputs": [
    {
     "name": "stdout",
     "output_type": "stream",
     "text": [
      "Train on 6090 samples, validate on 1523 samples\n",
      "Epoch 1/10\n",
      "6090/6090 [==============================] - 28s 5ms/sample - loss: 0.3944 - binary_accuracy: 0.8310 - val_loss: 0.4394 - val_binary_accuracy: 0.8024\n",
      "Epoch 2/10\n",
      "6090/6090 [==============================] - 24s 4ms/sample - loss: 0.3868 - binary_accuracy: 0.8355 - val_loss: 0.4388 - val_binary_accuracy: 0.8030\n",
      "Epoch 3/10\n",
      "6090/6090 [==============================] - 23s 4ms/sample - loss: 0.3864 - binary_accuracy: 0.8323 - val_loss: 0.4391 - val_binary_accuracy: 0.8050\n",
      "Epoch 4/10\n",
      "6090/6090 [==============================] - 23s 4ms/sample - loss: 0.3802 - binary_accuracy: 0.8361 - val_loss: 0.4393 - val_binary_accuracy: 0.8063\n",
      "Epoch 5/10\n",
      "6090/6090 [==============================] - 23s 4ms/sample - loss: 0.3792 - binary_accuracy: 0.8358 - val_loss: 0.4389 - val_binary_accuracy: 0.8037\n",
      "Epoch 6/10\n",
      "6090/6090 [==============================] - 24s 4ms/sample - loss: 0.3744 - binary_accuracy: 0.8397 - val_loss: 0.4393 - val_binary_accuracy: 0.8083\n",
      "Epoch 7/10\n",
      "6090/6090 [==============================] - 24s 4ms/sample - loss: 0.3725 - binary_accuracy: 0.8391 - val_loss: 0.4386 - val_binary_accuracy: 0.8076\n",
      "Epoch 8/10\n",
      "6090/6090 [==============================] - 24s 4ms/sample - loss: 0.3673 - binary_accuracy: 0.8440 - val_loss: 0.4391 - val_binary_accuracy: 0.8083\n",
      "Epoch 9/10\n",
      "6090/6090 [==============================] - 23s 4ms/sample - loss: 0.3671 - binary_accuracy: 0.8427 - val_loss: 0.4396 - val_binary_accuracy: 0.8089\n",
      "Epoch 10/10\n",
      "6090/6090 [==============================] - 23s 4ms/sample - loss: 0.3592 - binary_accuracy: 0.8488 - val_loss: 0.4401 - val_binary_accuracy: 0.8102\n"
     ]
    }
   ],
   "source": [
    "embedding_layer.trainable = True # Unfreeze pretrained layer.\n",
    "\n",
    "# Recompile model with lower learning rate.\n",
    "lstm_model.compile(optimizer = Adam(learning_rate = 1e-4),\n",
    "             loss = 'binary_crossentropy',\n",
    "             metrics = ['binary_accuracy'])\n",
    "\n",
    "# Train.\n",
    "history_fine_tune = lstm_model.fit(x_train,\n",
    "                    y_train,\n",
    "                    batch_size=512,\n",
    "                    epochs=10,\n",
    "                    validation_data=(x_test, y_test),\n",
    "                    callbacks = [callback])"
   ]
  },
  {
   "cell_type": "markdown",
   "metadata": {},
   "source": [
    "Plot accuracy and loss of training and testing during fine tuning. We got about a 1% increase in accuracy by doing fine tuning."
   ]
  },
  {
   "cell_type": "code",
   "execution_count": 47,
   "metadata": {},
   "outputs": [
    {
     "data": {
      "image/png": "[encoded data removed]",
      "text/plain": [
       "<Figure size 720x576 with 2 Axes>"
      ]
     },
     "metadata": {
      "needs_background": "light"
     },
     "output_type": "display_data"
    }
   ],
   "source": [
    "f,ax = plt.subplots(2,1,figsize=(10,8))\n",
    "\n",
    "ax[0].plot(history_fine_tune.history['binary_accuracy'])\n",
    "ax[0].plot(history_fine_tune.history['val_binary_accuracy'])\n",
    "ax[0].set_title('Model Accuracy - fine tuning')\n",
    "ax[0].set_ylabel('Accuracy')\n",
    "ax[0].set_xlabel('Epochs')\n",
    "ax[0].legend(['LSTM_train', 'LSTM_val'], loc='upper left')\n",
    "\n",
    "\n",
    "ax[1].plot(history_fine_tune.history['loss'])\n",
    "ax[1].plot(history_fine_tune.history['val_loss'])\n",
    "ax[1].set_title('Model Loss - fine tuning')\n",
    "ax[1].set_ylabel('Loss')\n",
    "ax[1].set_xlabel('Epochs')\n",
    "ax[1].legend(['train', 'val'], loc = 'upper left')\n",
    "\n",
    "f.tight_layout()\n",
    "plt.show()"
   ]
  },
  {
   "cell_type": "markdown",
   "metadata": {},
   "source": [
    "Let's look at the confusion matrix for the LSTM model."
   ]
  },
  {
   "cell_type": "code",
   "execution_count": 48,
   "metadata": {},
   "outputs": [
    {
     "name": "stdout",
     "output_type": "stream",
     "text": [
      "Confusion Matrix = \n",
      "[[767 105]\n",
      " [184 467]]\n",
      "              precision    recall  f1-score   support\n",
      "\n",
      "           0       0.81      0.88      0.84       872\n",
      "           1       0.82      0.72      0.76       651\n",
      "\n",
      "    accuracy                           0.81      1523\n",
      "   macro avg       0.81      0.80      0.80      1523\n",
      "weighted avg       0.81      0.81      0.81      1523\n",
      "\n"
     ]
    }
   ],
   "source": [
    "y_pred = lstm_model.predict(x_test)>0.5\n",
    "from sklearn.metrics import confusion_matrix\n",
    "confusionMatrix = confusion_matrix(y_test, y_pred)\n",
    "print(\"Confusion Matrix = \")\n",
    "print(confusionMatrix)\n",
    "from sklearn.metrics import classification_report\n",
    "print(classification_report(y_test, y_pred))"
   ]
  },
  {
   "cell_type": "markdown",
   "metadata": {},
   "source": [
    "## Assess performance of all models\n",
    "\n",
    "Compute ROC curves for all models."
   ]
  },
  {
   "cell_type": "code",
   "execution_count": 49,
   "metadata": {},
   "outputs": [],
   "source": [
    "from sklearn.metrics import roc_curve\n",
    "from sklearn.metrics import auc\n",
    "y_pred_lstm = lstm_model.predict(x_test).ravel()\n",
    "fpr_lstm, tpr_lstm, thresholds_lstm = roc_curve(y_test, y_pred_lstm)\n",
    "auc_keras = auc(fpr_lstm, tpr_lstm)"
   ]
  },
  {
   "cell_type": "code",
   "execution_count": 50,
   "metadata": {},
   "outputs": [
    {
     "data": {
      "image/png": "[encoded data removed]",
      "text/plain": [
       "<Figure size 432x288 with 1 Axes>"
      ]
     },
     "metadata": {
      "needs_background": "light"
     },
     "output_type": "display_data"
    }
   ],
   "source": [
    "plt.figure()\n",
    "\n",
    "plt.plot(fpr_lstm, tpr_lstm, label='LSTM (auc = %0.2f)' % auc_keras)\n",
    "plt.plot([0, 1], [0, 1],'k--')\n",
    "plt.xlim([-0.01, 1.0])\n",
    "plt.ylim([0.0, 1.05])\n",
    "plt.xlabel('False Positive Rate')\n",
    "plt.ylabel('True Positive Rate')\n",
    "plt.title('Receiver operating characteristic')\n",
    "\n",
    "plt.plot(fpr_logit, tpr_logit, label='Logistic regression (auc = %0.2f)' % logit_roc_auc)\n",
    "plt.plot(fpr_rf, tpr_rf, label='Random Forest (auc = %0.2f)' % rf_roc_auc)\n",
    "plt.plot(fpr_xgb, tpr_xgb, label='XGBoost (auc = %0.2f)' % xgb_roc_auc)\n",
    "\n",
    "plt.legend(loc=\"lower right\")\n",
    "plt.show()"
   ]
  },
  {
   "cell_type": "markdown",
   "metadata": {},
   "source": [
    "## Conclusion\n",
    "\n",
    "We successfully classified tweets into texts that refered to disasters and text that did not. We went through nearly all steps in the modeling process starting with loading and exploring the dataset, cleaning and preprocessing the data, feature extraction, and finishing with model fitting and performance assessment. \n",
    "\n",
    "As is always good practice, we started off with simpler models and moved towards more complex ones seeking higher performance.\n",
    "\n",
    "Initially we fit the data to a Logistic Regression model (auc=0.79). After that we moved to ensemble models: Random forests and XGBoost which actually performed worse than logistic regression, auc=0.77 and auc=0.75, respectively.\n",
    "\n",
    "Finally, we fit the data to a recurrent neural network (LSTM), where we obtained the best performance with an auc score of 0.87!"
   ]
  },
  {
   "cell_type": "code",
   "execution_count": null,
   "metadata": {},
   "outputs": [],
   "source": []
  }
 ],
 "metadata": {
  "kernelspec": {
   "display_name": "Python 3",
   "language": "python",
   "name": "python3"
  },
  "language_info": {
   "codemirror_mode": {
    "name": "ipython",
    "version": 3
   },
   "file_extension": ".py",
   "mimetype": "text/x-python",
   "name": "python",
   "nbconvert_exporter": "python",
   "pygments_lexer": "ipython3",
   "version": "3.7.7"
  }
 },
 "nbformat": 4,
 "nbformat_minor": 4
}
